{
 "metadata": {
  "name": "",
  "signature": "sha256:d3cdc674528c9193a5a0dcccf2bb8b368a1631de9dd7392405211418eb9cf492"
 },
 "nbformat": 3,
 "nbformat_minor": 0,
 "worksheets": [
  {
   "cells": [
    {
     "cell_type": "heading",
     "level": 1,
     "metadata": {},
     "source": [
      "Quadtrees iterating on pairs of neighbouring items"
     ]
    },
    {
     "cell_type": "markdown",
     "metadata": {},
     "source": [
      "A quadtree is a tree data structure in which each node has exactly four children. It is a particularly efficient way to store elements when you need to quickly find them according to their x-y coordinates.\n",
      "\n",
      "A common problem with elements in quadtrees is to detect pairs of elements which are closer than a definite threshold.\n",
      "\n",
      "The proposed implementation efficiently addresses this problem."
     ]
    },
    {
     "cell_type": "code",
     "collapsed": false,
     "input": [
      "from smartquadtree import Quadtree"
     ],
     "language": "python",
     "metadata": {},
     "outputs": [],
     "prompt_number": 1
    },
    {
     "cell_type": "heading",
     "level": 2,
     "metadata": {},
     "source": [
      "Creation & insertion of elements"
     ]
    },
    {
     "cell_type": "markdown",
     "metadata": {},
     "source": [
      "As you instantiate your quadtree, you must specify the center of your space then the height and width."
     ]
    },
    {
     "cell_type": "code",
     "collapsed": false,
     "input": [
      "q = Quadtree(0, 0, 10, 10)"
     ],
     "language": "python",
     "metadata": {},
     "outputs": [],
     "prompt_number": 2
    },
    {
     "cell_type": "markdown",
     "metadata": {},
     "source": [
      "The output of a quadtree on the console is pretty explicit. (You can refer to next section for the meaning of \"No mask set\")"
     ]
    },
    {
     "cell_type": "code",
     "collapsed": false,
     "input": [
      "q"
     ],
     "language": "python",
     "metadata": {},
     "outputs": [
      {
       "metadata": {},
       "output_type": "pyout",
       "prompt_number": 3,
       "text": [
        "<smartquadtree.Quadtree at 0x7fd00a80b920>\n",
        "Total number of elements: 0\n",
        "No mask set"
       ]
      }
     ],
     "prompt_number": 3
    },
    {
     "cell_type": "markdown",
     "metadata": {},
     "source": [
      "You can easily insert elements from which you can naturally infer x-y coordinates (e.g. tuples or lists)"
     ]
    },
    {
     "cell_type": "code",
     "collapsed": false,
     "input": [
      "q.insert((1, 2))\n",
      "q.insert((-3, 4))\n",
      "q"
     ],
     "language": "python",
     "metadata": {},
     "outputs": [
      {
       "metadata": {},
       "output_type": "pyout",
       "prompt_number": 4,
       "text": [
        "<smartquadtree.Quadtree at 0x7fd00a80b920>\n",
        "Total number of elements: 2\n",
        "No mask set\n",
        "First elements:\n",
        "    (1, 2), (-3, 4)"
       ]
      }
     ],
     "prompt_number": 4
    },
    {
     "cell_type": "markdown",
     "metadata": {},
     "source": [
      "No error is raised if the element you are trying to insert is outside the scope of the quadtree. But it won't be stored anyway!"
     ]
    },
    {
     "cell_type": "code",
     "collapsed": false,
     "input": [
      "q.insert((-20, 0))\n",
      "q"
     ],
     "language": "python",
     "metadata": {},
     "outputs": [
      {
       "metadata": {},
       "output_type": "pyout",
       "prompt_number": 5,
       "text": [
        "<smartquadtree.Quadtree at 0x7fd00a80b920>\n",
        "Total number of elements: 2\n",
        "No mask set\n",
        "First elements:\n",
        "    (1, 2), (-3, 4)"
       ]
      }
     ],
     "prompt_number": 5
    },
    {
     "cell_type": "markdown",
     "metadata": {},
     "source": [
      "If you want to insert other Python objects, be sure to provide `get_x()` and `get_y()` methods to your class!"
     ]
    },
    {
     "cell_type": "code",
     "collapsed": false,
     "input": [
      "class Point(object):\n",
      "\n",
      "    def __init__(self, x, y, color):\n",
      "        self.x = x\n",
      "        self.y = y\n",
      "        self.color = color\n",
      "\n",
      "    def __repr__(self):\n",
      "        return \"(%.2f, %.2f) %s\" % (self.x, self.y, self.color)\n",
      "\n",
      "    def get_x(self):\n",
      "        return self.x\n",
      "\n",
      "    def get_y(self):\n",
      "        return self.y\n"
     ],
     "language": "python",
     "metadata": {},
     "outputs": [],
     "prompt_number": 6
    },
    {
     "cell_type": "markdown",
     "metadata": {},
     "source": [
      "You cannot insert elements of a different type from the first element inserted."
     ]
    },
    {
     "cell_type": "code",
     "collapsed": false,
     "input": [
      "q.insert(Point(2, -7, \"red\"))"
     ],
     "language": "python",
     "metadata": {},
     "outputs": [
      {
       "output_type": "stream",
       "stream": "stderr",
       "text": [
        "Exception ignored in: 'smartquadtree.c_getidx0'\n",
        "AssertionError\n",
        "Exception ignored in: 'smartquadtree.c_getidx1'\n",
        "AssertionError\n"
       ]
      }
     ],
     "prompt_number": 7
    },
    {
     "cell_type": "markdown",
     "metadata": {},
     "source": [
      "But feel free to create a new one and play with it:"
     ]
    },
    {
     "cell_type": "code",
     "collapsed": false,
     "input": [
      "point_quadtree = Quadtree(5, 5, 5, 5)\n",
      "point_quadtree.insert(Point(2, 7, \"red\"))\n",
      "point_quadtree"
     ],
     "language": "python",
     "metadata": {},
     "outputs": [
      {
       "metadata": {},
       "output_type": "pyout",
       "prompt_number": 8,
       "text": [
        "<smartquadtree.Quadtree at 0x7fd00979c850>\n",
        "Total number of elements: 1\n",
        "No mask set\n",
        "First elements:\n",
        "    (2.00, 7.00) red"
       ]
      }
     ],
     "prompt_number": 8
    },
    {
     "cell_type": "heading",
     "level": 2,
     "metadata": {},
     "source": [
      "Simple iteration"
     ]
    },
    {
     "cell_type": "code",
     "collapsed": false,
     "input": [
      "from random import random\n",
      "q = Quadtree(0, 0, 10, 10, 16)\n",
      "for a in range(50):\n",
      "    q.insert([random()*20-10, random()*20-10])"
     ],
     "language": "python",
     "metadata": {},
     "outputs": [],
     "prompt_number": 9
    },
    {
     "cell_type": "markdown",
     "metadata": {},
     "source": [
      "The `print` function does not display all elements and uses the `__repr__()` method of each element."
     ]
    },
    {
     "cell_type": "code",
     "collapsed": false,
     "input": [
      "print(q)"
     ],
     "language": "python",
     "metadata": {},
     "outputs": [
      {
       "output_type": "stream",
       "stream": "stdout",
       "text": [
        "<smartquadtree.Quadtree at 0x7fd00a81edb0>\n",
        "Total number of elements: 50\n",
        "No mask set\n",
        "First elements:\n",
        "    [-4.133491513746391, 1.4148353954710302], [-6.235377586273891, 8.720246855447016], [-4.753166921104974, 8.99398672411563], ...\n"
       ]
      }
     ],
     "prompt_number": 10
    },
    {
     "cell_type": "markdown",
     "metadata": {},
     "source": [
      "We can write our own iterator and print each element we encounter the way we like."
     ]
    },
    {
     "cell_type": "code",
     "collapsed": false,
     "input": [
      "def print_callback(p):\n",
      "    print (\"[%.2f, %.2f]\" % (p[0], p[1]), end=\" \") \n",
      "q.iterate(print_callback)"
     ],
     "language": "python",
     "metadata": {},
     "outputs": [
      {
       "ename": "AssertionError",
       "evalue": "You must decorate your function with @static_elt or @movable_elt",
       "output_type": "pyerr",
       "traceback": [
        "\u001b[0;31m---------------------------------------------------------------------------\u001b[0m\n\u001b[0;31mAssertionError\u001b[0m                            Traceback (most recent call last)",
        "\u001b[0;32m<ipython-input-11-2e1d015725eb>\u001b[0m in \u001b[0;36m<module>\u001b[0;34m()\u001b[0m\n\u001b[1;32m      1\u001b[0m \u001b[0;32mdef\u001b[0m \u001b[0mprint_callback\u001b[0m\u001b[0;34m(\u001b[0m\u001b[0mp\u001b[0m\u001b[0;34m)\u001b[0m\u001b[0;34m:\u001b[0m\u001b[0;34m\u001b[0m\u001b[0m\n\u001b[1;32m      2\u001b[0m     \u001b[0mprint\u001b[0m \u001b[0;34m(\u001b[0m\u001b[0;34m\"[%.2f, %.2f]\"\u001b[0m \u001b[0;34m%\u001b[0m \u001b[0;34m(\u001b[0m\u001b[0mp\u001b[0m\u001b[0;34m[\u001b[0m\u001b[0;36m0\u001b[0m\u001b[0;34m]\u001b[0m\u001b[0;34m,\u001b[0m \u001b[0mp\u001b[0m\u001b[0;34m[\u001b[0m\u001b[0;36m1\u001b[0m\u001b[0;34m]\u001b[0m\u001b[0;34m)\u001b[0m\u001b[0;34m,\u001b[0m \u001b[0mend\u001b[0m\u001b[0;34m=\u001b[0m\u001b[0;34m\" \"\u001b[0m\u001b[0;34m)\u001b[0m\u001b[0;34m\u001b[0m\u001b[0m\n\u001b[0;32m----> 3\u001b[0;31m \u001b[0mq\u001b[0m\u001b[0;34m.\u001b[0m\u001b[0miterate\u001b[0m\u001b[0;34m(\u001b[0m\u001b[0mprint_callback\u001b[0m\u001b[0;34m)\u001b[0m\u001b[0;34m\u001b[0m\u001b[0m\n\u001b[0m",
        "\u001b[0;32m/Users/xo/Documents/venv/py34/lib/python3.4/site-packages/smartquadtree-0.1-py3.4-macosx-10.9-x86_64.egg/smartquadtree.so\u001b[0m in \u001b[0;36msmartquadtree.Quadtree.iterate (smartquadtree.cpp:3823)\u001b[0;34m()\u001b[0m\n",
        "\u001b[0;31mAssertionError\u001b[0m: You must decorate your function with @static_elt or @movable_elt"
       ]
      }
     ],
     "prompt_number": 11
    },
    {
     "cell_type": "markdown",
     "metadata": {},
     "source": [
      "<div class=\"alert\">\n",
      "All callbacks must be decorated either with `@movable_elt` if the coordinates of any element may have changed, or with `@static_elt` otherwise. The decorator is necessary so that the quadtree structure is updated accordingly.\n",
      "</div>"
     ]
    },
    {
     "cell_type": "code",
     "collapsed": false,
     "input": [
      "from smartquadtree import static_elt\n",
      "\n",
      "@static_elt\n",
      "def print_callback(p):\n",
      "    print (\"[%.2f, %.2f]\" % (p[0], p[1]), end=\" \")\n",
      "q.iterate(print_callback)"
     ],
     "language": "python",
     "metadata": {},
     "outputs": [
      {
       "output_type": "stream",
       "stream": "stdout",
       "text": [
        "[-4.13, 1.41] [-6.24, 8.72] [-4.75, 8.99] [-8.26, 0.41] [-6.63, -7.00] [-5.87, 6.95] [-5.52, 6.50] [-2.96, 1.53] [1.98, 4.83] [-1.99, -4.45] [-9.27, -1.29] [2.62, 4.60] [8.40, -9.71] [3.75, -1.52] [4.45, 0.18] [2.69, -7.98] [4.62, -4.80] [8.63, 0.76] [5.36, -5.36] [2.07, 7.15] [4.77, -7.97] [7.44, -5.82] [9.66, 9.84] [9.71, -4.15] [1.00, -6.52] [-7.95, 0.81] [-7.72, 1.03] [-5.57, -3.71] [4.07, 8.77] [-8.86, 2.33] [-3.06, 3.68] [3.58, -5.20] [-5.14, 4.14] [-4.41, 1.66] [7.95, -6.23] [6.85, -5.43] [-4.42, -3.99] [-7.42, 9.80] [6.44, -2.06] [-4.29, 0.69] [-6.16, -8.62] [6.47, -0.47] [-8.58, -5.47] [1.67, 6.70] [4.76, -5.92] [2.84, 0.31] [7.10, 6.77] [0.67, 8.21] [-4.66, -0.95] [0.58, 4.93] "
       ]
      }
     ],
     "prompt_number": 12
    },
    {
     "cell_type": "markdown",
     "metadata": {},
     "source": [
      "It is easy to filter the iteration process and apply the function only on elements inside a given polygon. Use the `set_mask()` method and pass a list of x-y coordinates. The polygon will be automatically closed."
     ]
    },
    {
     "cell_type": "code",
     "collapsed": false,
     "input": [
      "q.set_mask([(-3, -7), (-3, 7), (3, 7), (3, -7)])\n",
      "q.iterate(print_callback)"
     ],
     "language": "python",
     "metadata": {},
     "outputs": [
      {
       "output_type": "stream",
       "stream": "stdout",
       "text": [
        "[-2.96, 1.53] [1.98, 4.83] [-1.99, -4.45] [2.62, 4.60] [1.00, -6.52] [1.67, 6.70] [2.84, 0.31] [0.58, 4.93] "
       ]
      }
     ],
     "prompt_number": 13
    },
    {
     "cell_type": "markdown",
     "metadata": {},
     "source": [
      "The same approach can be used to count the number of elements inside the quadtree, using a global counting variable."
     ]
    },
    {
     "cell_type": "code",
     "collapsed": false,
     "input": [
      "count = 0\n",
      "@static_elt\n",
      "def count_element(p):\n",
      "    global count\n",
      "    count += 1\n",
      "q.iterate(count_element)\n",
      "print (\"%d elements\" % count)"
     ],
     "language": "python",
     "metadata": {},
     "outputs": [
      {
       "output_type": "stream",
       "stream": "stdout",
       "text": [
        "8 elements\n"
       ]
      }
     ],
     "prompt_number": 14
    },
    {
     "cell_type": "markdown",
     "metadata": {},
     "source": [
      "As a mask is set on the quadtree, we only counted the elements inside the mask. You can use the `size()` method to count elements and ignore the mask by default. Disabling the mask with `set_mask(None)` is also a possibility."
     ]
    },
    {
     "cell_type": "code",
     "collapsed": false,
     "input": [
      "print (\"%d elements (size method)\" % q.size())\n",
      "print (\"%d elements (don't ignore the mask)\" % q.size(False))\n",
      "\n",
      "count = 0\n",
      "q.set_mask(None)\n",
      "q.iterate(count_element)\n",
      "print (\"%d elements (disable the mask)\" % count)"
     ],
     "language": "python",
     "metadata": {},
     "outputs": [
      {
       "output_type": "stream",
       "stream": "stdout",
       "text": [
        "50 elements (size method)\n",
        "8 elements (don't ignore the mask)\n",
        "50 elements (disable the mask)\n"
       ]
      }
     ],
     "prompt_number": 15
    },
    {
     "cell_type": "code",
     "collapsed": false,
     "input": [
      "%matplotlib inline\n",
      "from matplotlib import pyplot as plt\n",
      "\n",
      "@static_elt\n",
      "def plot_green(p):\n",
      "    plt.plot([p[0]], [p[1]], 'o', color='lightgrey')\n",
      "\n",
      "@static_elt\n",
      "def plot_red(p):\n",
      "    plt.plot([p[0]], [p[1]], 'ro')\n",
      "    \n",
      "fig = plt.figure()\n",
      "plt.axis([-10, 10, -10, 10])\n",
      "q.set_mask(None)\n",
      "q.iterate(plot_green)\n",
      "q.set_mask([(-3, -7), (-3, 7), (3, 7), (3, -7)])\n",
      "q.iterate(plot_red)\n",
      "_ = plt.plot([-3, -3, 3, 3, -3], [-7, 7, 7, -7, -7], 'r')\n"
     ],
     "language": "python",
     "metadata": {},
     "outputs": [
      {
       "metadata": {},
       "output_type": "display_data",
       "png": "[encoded data removed]",
       "text": [
        "<matplotlib.figure.Figure at 0x10f98e828>"
       ]
      }
     ],
     "prompt_number": 16
    },
    {
     "cell_type": "heading",
     "level": 2,
     "metadata": {},
     "source": [
      "Iteration on pairs of neighbouring elements"
     ]
    },
    {
     "cell_type": "markdown",
     "metadata": {},
     "source": [
      "Iterating on pairs of neighbouring elements works in a pretty intuitive way by passing a function of two elements to `iterate_pair` method.\n",
      "\n",
      "** Important notes **\n",
      "\n",
      "<div class=\"alert\">\n",
      "The `iterate_pair` method iterates on pairs of elements that are in the same cell or in neighbouring cells of the quadtree. It may be necessary to add a criterion to stop the subdivision of the quadtree when a critical size is reached. Refer to the `set_limitation` method that needs to be called **before inserting any element** to the quadtree.\n",
      "</div>\n",
      "\n",
      "<div class=\"alert\">\n",
      "The function of two elements is **not** supposed to modify the x-y coordinates of any element. `@static_elt` and `@mobile_elt` do not apply (yet?) here.\n",
      "</div>\n",
      "\n",
      "<div class=\"alert\">\n",
      "The function is supposed to be symmetrical, i.e. only one of `f(p1, p2)` and `f(p2, p1)` is called.\n",
      "</div>\n"
     ]
    },
    {
     "cell_type": "code",
     "collapsed": false,
     "input": [
      "# Let's start with a new quadtree because we need\n",
      "q = Quadtree(5, 5, 5, 5, 10)\n",
      "q.set_limitation(2)  # do not create a new subdivision if one side of the cell is below 2\n",
      "\n",
      "for a in range(50):\n",
      "    q.insert([random()*10, random()*10])\n",
      "\n",
      "fig = plt.figure()\n",
      "plt.axis([0, 10, 0, 10])\n",
      "\n",
      "@static_elt\n",
      "def plot_grey(p):\n",
      "    plt.plot([p[0]], [p[1]], 'o', color='lightgrey')\n",
      "\n",
      "def draw_line(p1, p2):\n",
      "    if ((p1[0] - p2[0]) ** 2 + (p1[1] - p2[1]) ** 2 < 1):\n",
      "        plt.plot([p1[0]], [p1[1]], 'o', color='red')\n",
      "        plt.plot([p2[0]], [p2[1]], 'o', color='red')\n",
      "        plt.plot([p1[0], p2[0]], [p1[1], p2[1]], 'red')\n",
      "        \n",
      "q.set_mask(None)\n",
      "q.iterate(plot_grey)\n",
      "q.iterate_pair(draw_line)\n"
     ],
     "language": "python",
     "metadata": {},
     "outputs": [
      {
       "metadata": {},
       "output_type": "display_data",
       "png": "[encoded data removed]",
       "text": [
        "<matplotlib.figure.Figure at 0x110f77a20>"
       ]
      }
     ],
     "prompt_number": 17
    },
    {
     "cell_type": "code",
     "collapsed": false,
     "input": [
      "# Let's move elements (violently)\n",
      "from smartquadtree import movable_elt\n",
      "\n",
      "# Try @static_elt and see how important it is to not be wrong here!\n",
      "@movable_elt\n",
      "def move(p):\n",
      "    p[0] = p[0] / 2\n",
      "    \n",
      "q.iterate(move)\n",
      "\n",
      "fig = plt.figure()\n",
      "plt.axis([0, 10, 0, 10])\n",
      "q.iterate(plot_grey)\n",
      "q.iterate_pair(draw_line)"
     ],
     "language": "python",
     "metadata": {},
     "outputs": [
      {
       "metadata": {},
       "output_type": "display_data",
       "png": "[encoded data removed]",
       "text": [
        "<matplotlib.figure.Figure at 0x10f3eee48>"
       ]
      }
     ],
     "prompt_number": 18
    },
    {
     "cell_type": "code",
     "collapsed": false,
     "input": [],
     "language": "python",
     "metadata": {},
     "outputs": []
    }
   ],
   "metadata": {}
  }
 ]
}