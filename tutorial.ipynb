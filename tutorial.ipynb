{
 "cells": [
  {
   "cell_type": "markdown",
   "metadata": {},
   "source": [
    "# Quadtrees iterating on pairs of neighbouring items"
   ]
  },
  {
   "cell_type": "markdown",
   "metadata": {},
   "source": [
    "A quadtree is a tree data structure in which each node has exactly four children. It is a particularly efficient way to store elements when you need to quickly find them according to their x-y coordinates.\n",
    "\n",
    "A common problem with elements in quadtrees is to detect pairs of elements which are closer than a definite threshold.\n",
    "\n",
    "The proposed implementation efficiently addresses this problem."
   ]
  },
  {
   "cell_type": "code",
   "execution_count": 1,
   "metadata": {
    "collapsed": false
   },
   "outputs": [],
   "source": [
    "from smartquadtree import Quadtree"
   ]
  },
  {
   "cell_type": "markdown",
   "metadata": {},
   "source": [
    "## Creation & insertion of elements"
   ]
  },
  {
   "cell_type": "markdown",
   "metadata": {},
   "source": [
    "As you instantiate your quadtree, you must specify the center of your space then the height and width."
   ]
  },
  {
   "cell_type": "code",
   "execution_count": 2,
   "metadata": {
    "collapsed": false
   },
   "outputs": [],
   "source": [
    "q = Quadtree(0, 0, 10, 10)"
   ]
  },
  {
   "cell_type": "markdown",
   "metadata": {},
   "source": [
    "The output of a quadtree on the console is pretty explicit. (You can refer to next section for the meaning of \"No mask set\")"
   ]
  },
  {
   "cell_type": "code",
   "execution_count": 3,
   "metadata": {
    "collapsed": false
   },
   "outputs": [
    {
     "data": {
      "text/plain": [
       "<smartquadtree.Quadtree at 0x7fc28b93d300>\n",
       "Total number of elements: 0\n",
       "No mask set"
      ]
     },
     "execution_count": 3,
     "metadata": {},
     "output_type": "execute_result"
    }
   ],
   "source": [
    "q"
   ]
  },
  {
   "cell_type": "markdown",
   "metadata": {},
   "source": [
    "You can easily insert elements from which you can naturally infer x-y coordinates (e.g. tuples or lists)"
   ]
  },
  {
   "cell_type": "code",
   "execution_count": 4,
   "metadata": {
    "collapsed": false
   },
   "outputs": [
    {
     "data": {
      "text/plain": [
       "<smartquadtree.Quadtree at 0x7fc28b93d300>\n",
       "Total number of elements: 2\n",
       "No mask set\n",
       "First elements:\n",
       "    (1, 2),\n",
       "    (-3, 4),\n",
       "  "
      ]
     },
     "execution_count": 4,
     "metadata": {},
     "output_type": "execute_result"
    }
   ],
   "source": [
    "q.insert((1, 2))\n",
    "q.insert((-3, 4))\n",
    "q"
   ]
  },
  {
   "cell_type": "markdown",
   "metadata": {},
   "source": [
    "No error is raised if the element you are trying to insert is outside the scope of the quadtree. But it won't be stored anyway!"
   ]
  },
  {
   "cell_type": "code",
   "execution_count": 5,
   "metadata": {
    "collapsed": false
   },
   "outputs": [
    {
     "data": {
      "text/plain": [
       "<smartquadtree.Quadtree at 0x7fc28b93d300>\n",
       "Total number of elements: 2\n",
       "No mask set\n",
       "First elements:\n",
       "    (1, 2),\n",
       "    (-3, 4),\n",
       "  "
      ]
     },
     "execution_count": 5,
     "metadata": {},
     "output_type": "execute_result"
    }
   ],
   "source": [
    "q.insert((-20, 0))\n",
    "q"
   ]
  },
  {
   "cell_type": "markdown",
   "metadata": {},
   "source": [
    "If you want to insert other Python objects, be sure to provide `get_x()` and `get_y()` methods to your class!"
   ]
  },
  {
   "cell_type": "code",
   "execution_count": 6,
   "metadata": {
    "collapsed": false
   },
   "outputs": [],
   "source": [
    "class Point(object):\n",
    "\n",
    "    def __init__(self, x, y, color):\n",
    "        self.x = x\n",
    "        self.y = y\n",
    "        self.color = color\n",
    "\n",
    "    def __repr__(self):\n",
    "        return \"(%.2f, %.2f) %s\" % (self.x, self.y, self.color)\n",
    "\n",
    "    def get_x(self):\n",
    "        return self.x\n",
    "\n",
    "    def get_y(self):\n",
    "        return self.y\n"
   ]
  },
  {
   "cell_type": "markdown",
   "metadata": {},
   "source": [
    "You cannot insert elements of a different type from the first element inserted."
   ]
  },
  {
   "cell_type": "code",
   "execution_count": 7,
   "metadata": {
    "collapsed": false
   },
   "outputs": [],
   "source": [
    "q.insert(Point(2, -7, \"red\"))"
   ]
  },
  {
   "cell_type": "markdown",
   "metadata": {},
   "source": [
    "But feel free to create a new one and play with it:"
   ]
  },
  {
   "cell_type": "code",
   "execution_count": 8,
   "metadata": {
    "collapsed": false
   },
   "outputs": [
    {
     "data": {
      "text/plain": [
       "<smartquadtree.Quadtree at 0x7fc289797a00>\n",
       "Total number of elements: 1\n",
       "No mask set\n",
       "First elements:\n",
       "    (2.00, 7.00) red,\n",
       "  "
      ]
     },
     "execution_count": 8,
     "metadata": {},
     "output_type": "execute_result"
    }
   ],
   "source": [
    "point_quadtree = Quadtree(5, 5, 5, 5)\n",
    "point_quadtree.insert(Point(2, 7, \"red\"))\n",
    "point_quadtree"
   ]
  },
  {
   "cell_type": "markdown",
   "metadata": {},
   "source": [
    "## Simple iteration"
   ]
  },
  {
   "cell_type": "code",
   "execution_count": 9,
   "metadata": {
    "collapsed": false
   },
   "outputs": [],
   "source": [
    "from random import random\n",
    "q = Quadtree(0, 0, 10, 10, 16)\n",
    "for a in range(50):\n",
    "    q.insert([random()*20-10, random()*20-10])"
   ]
  },
  {
   "cell_type": "markdown",
   "metadata": {},
   "source": [
    "The `print` function does not display all elements and uses the `__repr__()` method of each element."
   ]
  },
  {
   "cell_type": "code",
   "execution_count": 10,
   "metadata": {
    "collapsed": false
   },
   "outputs": [
    {
     "name": "stdout",
     "output_type": "stream",
     "text": [
      "<smartquadtree.Quadtree at 0x7fc28b94c0b0>\n",
      "Total number of elements: 50\n",
      "No mask set\n",
      "First elements:\n",
      "    [5.576253335483335, 2.9926458306078647],\n",
      "    [2.956289387002718, 3.792134207741281],\n",
      "    [3.9903269308895766, 5.492168007874362],\n",
      "    ...\n"
     ]
    }
   ],
   "source": [
    "print(q)"
   ]
  },
  {
   "cell_type": "markdown",
   "metadata": {},
   "source": [
    "We can write our own iterator and print each element we encounter the way we like."
   ]
  },
  {
   "cell_type": "code",
   "execution_count": 11,
   "metadata": {
    "collapsed": false
   },
   "outputs": [
    {
     "name": "stdout",
     "output_type": "stream",
     "text": [
      "[5.58, 2.99] [2.96, 3.79] [3.99, 5.49] [3.43, 1.10] [7.73, 4.09] [9.67, 6.81] [2.95, 4.12] [0.14, 5.80] [2.77, 7.87] [0.05, 1.61] [-8.74, 7.64] [-1.22, 1.90] [-0.95, 3.91] [-3.17, 1.09] [-7.41, 4.26] [-8.25, 6.47] [-6.91, 3.80] [-3.73, 3.10] [-5.74, 8.80] [8.50, -9.31] [2.49, -9.10] [6.64, -8.61] [0.40, -2.93] [7.99, -4.08] [4.71, -6.75] [0.12, -1.84] [0.72, -2.94] [9.62, -9.90] [0.15, -9.75] [8.67, -7.19] [2.44, -3.60] [5.08, -8.63] [8.86, -1.87] [1.07, -9.43] [-7.96, -5.53] [-2.53, -5.75] [-1.31, -5.81] [-7.24, -3.55] [-8.76, -9.37] [-8.48, -1.33] [-1.28, -0.69] [-6.60, -4.65] [-4.28, -0.89] [-7.56, -7.31] [-4.72, -7.02] [-1.98, -2.33] [-3.43, -5.74] [-3.71, -1.13] [-1.01, -7.29] [-2.04, -5.90] "
     ]
    }
   ],
   "source": [
    "from __future__ import print_function\n",
    "for p in q.elements():\n",
    "    print (\"[%.2f, %.2f]\" % (p[0], p[1]), end=\" \")"
   ]
  },
  {
   "cell_type": "markdown",
   "metadata": {},
   "source": [
    "It is easy to filter the iteration process and apply the function only on elements inside a given polygon. Use the `set_mask()` method and pass a list of x-y coordinates. The polygon will be automatically closed."
   ]
  },
  {
   "cell_type": "code",
   "execution_count": 12,
   "metadata": {
    "collapsed": false
   },
   "outputs": [
    {
     "name": "stdout",
     "output_type": "stream",
     "text": [
      "<smartquadtree.Quadtree at 0x7fc28b94c0b0>\n",
      "Total number of elements: 50\n",
      "Total number of elements inside mask: 15\n",
      "First elements inside the mask:\n",
      "    [2.956289387002718, 3.792134207741281],\n",
      "    [2.945472950394006, 4.1166899654293765],\n",
      "    [0.14379102547949074, 5.797490949080599],\n",
      "    ...\n"
     ]
    }
   ],
   "source": [
    "q.set_mask([(-3, -7), (-3, 7), (3, 7), (3, -7)])\n",
    "print(q)"
   ]
  },
  {
   "cell_type": "markdown",
   "metadata": {},
   "source": [
    "The same approach can be used to count the number of elements inside the quadtree."
   ]
  },
  {
   "cell_type": "code",
   "execution_count": 13,
   "metadata": {
    "collapsed": false
   },
   "outputs": [
    {
     "name": "stdout",
     "output_type": "stream",
     "text": [
      "15\n",
      "50\n"
     ]
    }
   ],
   "source": [
    "print (sum (1 for x in q.elements()))\n",
    "print (sum (1 for x in q.elements(ignore_mask=True)))\n"
   ]
  },
  {
   "cell_type": "markdown",
   "metadata": {},
   "source": [
    "As a mask is set on the quadtree, we only counted the elements inside the mask. You can use the `size()` method to count elements and ignore the mask by default. Disabling the mask with `set_mask(None)` is also a possibility."
   ]
  },
  {
   "cell_type": "code",
   "execution_count": 14,
   "metadata": {
    "collapsed": false
   },
   "outputs": [
    {
     "name": "stdout",
     "output_type": "stream",
     "text": [
      "50 elements (size method)\n",
      "15 elements (don't ignore the mask)\n",
      "50 elements (disable the mask)\n"
     ]
    }
   ],
   "source": [
    "print (\"%d elements (size method)\" % q.size())\n",
    "print (\"%d elements (don't ignore the mask)\" % q.size(False))\n",
    "\n",
    "q.set_mask(None)\n",
    "print (\"%d elements (disable the mask)\" % q.size())"
   ]
  },
  {
   "cell_type": "markdown",
   "metadata": {},
   "source": [
    "## Playing with plots"
   ]
  },
  {
   "cell_type": "code",
   "execution_count": 15,
   "metadata": {
    "collapsed": false
   },
   "outputs": [
    {
     "data": {
      "image/png": "[encoded data removed]",
      "text/plain": [
       "<matplotlib.figure.Figure at 0x102c5c2e8>"
      ]
     },
     "metadata": {},
     "output_type": "display_data"
    }
   ],
   "source": [
    "%matplotlib inline\n",
    "from matplotlib import pyplot as plt\n",
    "    \n",
    "q = Quadtree(5, 5, 5, 5, 10)\n",
    "\n",
    "for a in range(200):\n",
    "    q.insert([random()*10, random()*10])\n",
    "    \n",
    "fig = plt.figure()\n",
    "plt.axis([0, 10, 0, 10])\n",
    "\n",
    "q.set_mask(None)\n",
    "for p in q.elements():\n",
    "    plt.plot([p[0]], [p[1]], 'o', color='lightgrey')\n",
    "\n",
    "q.set_mask([(3, 3), (3, 7), (7, 7), (7, 3)])\n",
    "\n",
    "for p in q.elements():\n",
    "    plt.plot([p[0]], [p[1]], 'ro')\n",
    "\n",
    "_ = plt.plot([3, 3, 7, 7, 3], [3, 7, 7, 3, 3], 'r')\n"
   ]
  },
  {
   "cell_type": "markdown",
   "metadata": {},
   "source": [
    "## Iteration on pairs of neighbouring elements"
   ]
  },
  {
   "cell_type": "markdown",
   "metadata": {},
   "source": [
    "Iterating on pairs of neighbouring elements is possible through the `neighbour_elements()` function. It works as a generator and yields pair of elements, the first one being inside the mask (if specified), the second one being in the same cell or in any neighbouring cell, also in the mask.\n",
    "\n",
    "Note that if `(a, b)` is yielded by `neighbour_elements()`, `(b, a)` will be omitted from future yields."
   ]
  },
  {
   "cell_type": "code",
   "execution_count": 16,
   "metadata": {
    "collapsed": false
   },
   "outputs": [
    {
     "data": {
      "image/png": "[encoded data removed]",
      "text/plain": [
       "<matplotlib.figure.Figure at 0x104a62b00>"
      ]
     },
     "metadata": {},
     "output_type": "display_data"
    }
   ],
   "source": [
    "# Let's start with a new quadtree because we need\n",
    "q = Quadtree(5, 5, 5, 5, 10)\n",
    "q.set_limitation(2)  # do not create a new subdivision if one side of the cell is below 2\n",
    "\n",
    "for a in range(200):\n",
    "    q.insert([random()*10, random()*10])\n",
    "\n",
    "fig = plt.figure()\n",
    "plt.axis([0, 10, 0, 10])\n",
    "\n",
    "for p in q.elements():\n",
    "    plt.plot([p[0]], [p[1]], 'o', color='lightgrey')\n",
    "\n",
    "q.set_mask([(1, 1), (4, 1), (5, 4), (2, 5), (1, 1)])\n",
    "    \n",
    "for p in q.elements():\n",
    "    plt.plot([p[0]], [p[1]], 'o', color='green')\n",
    "    \n",
    "for p1, p2 in q.neighbour_elements():\n",
    "    if ((p1[0] - p2[0]) ** 2 + (p1[1] - p2[1]) ** 2 < 1):\n",
    "        plt.plot([p1[0]], [p1[1]], 'o', color='red')\n",
    "        plt.plot([p2[0]], [p2[1]], 'o', color='red')\n",
    "        plt.plot([p1[0], p2[0]], [p1[1], p2[1]], 'red')\n",
    "\n",
    "_ = plt.plot([1, 4, 5, 2, 1], [1, 1, 4, 5, 1], 'r')\n"
   ]
  },
  {
   "cell_type": "code",
   "execution_count": null,
   "metadata": {
    "collapsed": true
   },
   "outputs": [],
   "source": []
  }
 ],
 "metadata": {
  "kernelspec": {
   "display_name": "Python 3",
   "language": "python",
   "name": "python3"
  },
  "language_info": {
   "codemirror_mode": {
    "name": "ipython",
    "version": 3
   },
   "file_extension": ".py",
   "mimetype": "text/x-python",
   "name": "python",
   "nbconvert_exporter": "python",
   "pygments_lexer": "ipython3",
   "version": "3.4.3"
  }
 },
 "nbformat": 4,
 "nbformat_minor": 0
}
