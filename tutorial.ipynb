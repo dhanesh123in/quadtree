{
 "metadata": {
  "name": "",
  "signature": "sha256:332f09d9e9f9af89a315be931f0874eb42d9ea9a9abea43ddc89976485f09f16"
 },
 "nbformat": 3,
 "nbformat_minor": 0,
 "worksheets": [
  {
   "cells": [
    {
     "cell_type": "heading",
     "level": 1,
     "metadata": {},
     "source": [
      "Quadtrees iterating on pairs of neighbouring items"
     ]
    },
    {
     "cell_type": "markdown",
     "metadata": {},
     "source": [
      "A quadtree is a tree data structure in which each node has exactly four children. It is a particularly efficient way to store elements when you need to quickly find them according to their x-y coordinates.\n",
      "\n",
      "A common problem with elements in quadtrees is to detect pairs of elements which are closer than a definite threshold.\n",
      "\n",
      "The proposed implementation efficiently addresses this problem."
     ]
    },
    {
     "cell_type": "code",
     "collapsed": false,
     "input": [
      "from smartquadtree import Quadtree"
     ],
     "language": "python",
     "metadata": {},
     "outputs": [],
     "prompt_number": 1
    },
    {
     "cell_type": "heading",
     "level": 2,
     "metadata": {},
     "source": [
      "Creation & insertion of elements"
     ]
    },
    {
     "cell_type": "markdown",
     "metadata": {},
     "source": [
      "As you instantiate your quadtree, you must specify the center of your space then the height and width. The last parameter is the maximum depth of the tree."
     ]
    },
    {
     "cell_type": "code",
     "collapsed": false,
     "input": [
      "q = Quadtree(0, 0, 10, 10, 16)"
     ],
     "language": "python",
     "metadata": {},
     "outputs": [],
     "prompt_number": 2
    },
    {
     "cell_type": "markdown",
     "metadata": {},
     "source": [
      "The output of a quadtree on the console is pretty explicit. (You can refer to next section for the meaning of \"No mask set\")"
     ]
    },
    {
     "cell_type": "code",
     "collapsed": false,
     "input": [
      "q"
     ],
     "language": "python",
     "metadata": {},
     "outputs": [
      {
       "metadata": {},
       "output_type": "pyout",
       "prompt_number": 3,
       "text": [
        "<smartquadtree.Quadtree at 0x7fda5c924820>\n",
        "Total number of elements: 0\n",
        "No mask set"
       ]
      }
     ],
     "prompt_number": 3
    },
    {
     "cell_type": "markdown",
     "metadata": {},
     "source": [
      "You can easily insert elements from which you can naturally infer x-y coordinates (e.g. tuples or lists)"
     ]
    },
    {
     "cell_type": "code",
     "collapsed": false,
     "input": [
      "q.insert((1, 2))\n",
      "q.insert((-3, 4))\n",
      "q"
     ],
     "language": "python",
     "metadata": {},
     "outputs": [
      {
       "metadata": {},
       "output_type": "pyout",
       "prompt_number": 4,
       "text": [
        "<smartquadtree.Quadtree at 0x7fda5c924820>\n",
        "Total number of elements: 2\n",
        "No mask set\n",
        "First elements:\n",
        "    (1, 2), (-3, 4)"
       ]
      }
     ],
     "prompt_number": 4
    },
    {
     "cell_type": "markdown",
     "metadata": {},
     "source": [
      "No error is raised if the element you are trying to insert is outside the scope of the quadtree. But it won't be stored anyway!"
     ]
    },
    {
     "cell_type": "code",
     "collapsed": false,
     "input": [
      "q.insert((-20, 0))\n",
      "q"
     ],
     "language": "python",
     "metadata": {},
     "outputs": [
      {
       "metadata": {},
       "output_type": "pyout",
       "prompt_number": 5,
       "text": [
        "<smartquadtree.Quadtree at 0x7fda5c924820>\n",
        "Total number of elements: 2\n",
        "No mask set\n",
        "First elements:\n",
        "    (1, 2), (-3, 4)"
       ]
      }
     ],
     "prompt_number": 5
    },
    {
     "cell_type": "markdown",
     "metadata": {},
     "source": [
      "If you want to insert other Python objects, be sure to provide `get_x()` and `get_y()` methods to your class!"
     ]
    },
    {
     "cell_type": "code",
     "collapsed": false,
     "input": [
      "class Point(object):\n",
      "\n",
      "    def __init__(self, x, y, color):\n",
      "        self.x = x\n",
      "        self.y = y\n",
      "        self.color = color\n",
      "\n",
      "    def __repr__(self):\n",
      "        return \"(%.2f, %.2f) %s\" % (self.x, self.y, self.color)\n",
      "\n",
      "    def get_x(self):\n",
      "        return self.x\n",
      "\n",
      "    def get_y(self):\n",
      "        return self.y\n"
     ],
     "language": "python",
     "metadata": {},
     "outputs": [],
     "prompt_number": 6
    },
    {
     "cell_type": "markdown",
     "metadata": {},
     "source": [
      "You cannot insert elements of a different type from the first element inserted."
     ]
    },
    {
     "cell_type": "code",
     "collapsed": false,
     "input": [
      "q.insert(Point(2, -7, \"red\"))"
     ],
     "language": "python",
     "metadata": {},
     "outputs": [
      {
       "output_type": "stream",
       "stream": "stderr",
       "text": [
        "Exception AssertionError in 'smartquadtree.c_getidx0' ignored\n",
        "Exception AssertionError in 'smartquadtree.c_getidx1' ignored\n"
       ]
      }
     ],
     "prompt_number": 7
    },
    {
     "cell_type": "markdown",
     "metadata": {},
     "source": [
      "But feel free to create a new one and play with it:"
     ]
    },
    {
     "cell_type": "code",
     "collapsed": false,
     "input": [
      "point_quadtree = Quadtree(5, 5, 5, 5, 3)\n",
      "point_quadtree.insert(Point(2, 7, \"red\"))\n",
      "point_quadtree"
     ],
     "language": "python",
     "metadata": {},
     "outputs": [
      {
       "metadata": {},
       "output_type": "pyout",
       "prompt_number": 8,
       "text": [
        "<smartquadtree.Quadtree at 0x7fda5b7dded0>\n",
        "Total number of elements: 1\n",
        "No mask set\n",
        "First elements:\n",
        "    (2.00, 7.00) red"
       ]
      }
     ],
     "prompt_number": 8
    },
    {
     "cell_type": "heading",
     "level": 2,
     "metadata": {},
     "source": [
      "Simple iteration"
     ]
    },
    {
     "cell_type": "code",
     "collapsed": false,
     "input": [
      "from random import random\n",
      "q = Quadtree(0, 0, 10, 10, 16)\n",
      "for a in range(50):\n",
      "    q.insert([random()*20-10, random()*20-10])"
     ],
     "language": "python",
     "metadata": {},
     "outputs": [],
     "prompt_number": 9
    },
    {
     "cell_type": "markdown",
     "metadata": {},
     "source": [
      "The `print` function does not display all elements and uses the `__repr__()` method of each element."
     ]
    },
    {
     "cell_type": "code",
     "collapsed": false,
     "input": [
      "print(q)"
     ],
     "language": "python",
     "metadata": {},
     "outputs": [
      {
       "output_type": "stream",
       "stream": "stdout",
       "text": [
        "<smartquadtree.Quadtree at 0x7fda5c86c5c0>\n",
        "Total number of elements: 50\n",
        "No mask set\n",
        "First elements:\n",
        "    [-8.26768690496359, -2.584437389747249], [-3.3038211526737493, -0.9583422279959315], [-9.745583328535668, -8.294953142995524], ...\n"
       ]
      }
     ],
     "prompt_number": 10
    },
    {
     "cell_type": "markdown",
     "metadata": {},
     "source": [
      "We can write our own iterator and print each element we encounter the way we like."
     ]
    },
    {
     "cell_type": "code",
     "collapsed": false,
     "input": [
      "def print_callback(p):\n",
      "    print (\"[%.2f, %.2f]\" % (p[0], p[1])), \n",
      "q.iterate(print_callback)"
     ],
     "language": "python",
     "metadata": {},
     "outputs": [
      {
       "ename": "AssertionError",
       "evalue": "You must decorate your function with @static_elt or @movable_elt",
       "output_type": "pyerr",
       "traceback": [
        "\u001b[0;31m---------------------------------------------------------------------------\u001b[0m\n\u001b[0;31mAssertionError\u001b[0m                            Traceback (most recent call last)",
        "\u001b[0;32m<ipython-input-11-127f519b6dc7>\u001b[0m in \u001b[0;36m<module>\u001b[0;34m()\u001b[0m\n\u001b[1;32m      1\u001b[0m \u001b[0;32mdef\u001b[0m \u001b[0mprint_callback\u001b[0m\u001b[0;34m(\u001b[0m\u001b[0mp\u001b[0m\u001b[0;34m)\u001b[0m\u001b[0;34m:\u001b[0m\u001b[0;34m\u001b[0m\u001b[0m\n\u001b[1;32m      2\u001b[0m     \u001b[0;32mprint\u001b[0m \u001b[0;34m(\u001b[0m\u001b[0;34m\"[%.2f, %.2f]\"\u001b[0m \u001b[0;34m%\u001b[0m \u001b[0;34m(\u001b[0m\u001b[0mp\u001b[0m\u001b[0;34m[\u001b[0m\u001b[0;36m0\u001b[0m\u001b[0;34m]\u001b[0m\u001b[0;34m,\u001b[0m \u001b[0mp\u001b[0m\u001b[0;34m[\u001b[0m\u001b[0;36m1\u001b[0m\u001b[0;34m]\u001b[0m\u001b[0;34m)\u001b[0m\u001b[0;34m)\u001b[0m\u001b[0;34m,\u001b[0m\u001b[0;34m\u001b[0m\u001b[0m\n\u001b[0;32m----> 3\u001b[0;31m \u001b[0mq\u001b[0m\u001b[0;34m.\u001b[0m\u001b[0miterate\u001b[0m\u001b[0;34m(\u001b[0m\u001b[0mprint_callback\u001b[0m\u001b[0;34m)\u001b[0m\u001b[0;34m\u001b[0m\u001b[0m\n\u001b[0m",
        "\u001b[0;32m/Users/xo/Documents/Dropbox/docs/repository/quadtree/smartquadtree.so\u001b[0m in \u001b[0;36msmartquadtree.Quadtree.iterate (smartquadtree.cpp:3667)\u001b[0;34m()\u001b[0m\n",
        "\u001b[0;31mAssertionError\u001b[0m: You must decorate your function with @static_elt or @movable_elt"
       ]
      }
     ],
     "prompt_number": 11
    },
    {
     "cell_type": "markdown",
     "metadata": {},
     "source": [
      "<div class=\"alert\">\n",
      "All callbacks must be decorated either with `@movable_elt` if the coordinates of any element may have changed, or with `@static_elt` otherwise. The decorator is necessary so that the quadtree structure is updated accordingly.\n",
      "</div>"
     ]
    },
    {
     "cell_type": "code",
     "collapsed": false,
     "input": [
      "from smartquadtree import static_elt\n",
      "\n",
      "@static_elt\n",
      "def print_callback(p):\n",
      "    print (\"[%.2f, %.2f]\" % (p[0], p[1])), \n",
      "q.iterate(print_callback)"
     ],
     "language": "python",
     "metadata": {},
     "outputs": [
      {
       "output_type": "stream",
       "stream": "stdout",
       "text": [
        "[-8.27, -2.58] [-3.30, -0.96] [-9.75, -8.29] [-8.21, -6.90] [-3.94, -6.98] [-1.68, -6.69] [-0.17, -7.75] [-7.65, -9.06] [-7.13, -5.89] [-6.45, -1.85] [-0.91, -1.92] [-2.97, -7.22] [2.75, -7.60] [4.59, -6.16] [9.01, -5.45] [9.88, -3.03] [7.61, -7.13] [4.87, -3.94] [3.55, -8.29] [7.65, -0.99] [3.60, -1.69] [5.94, -4.95] [1.32, -2.36] [1.07, -2.52] [5.60, -2.97] [6.22, -7.46] [-8.46, 1.06] [-3.61, 4.77] [-5.06, 6.22] [-7.71, 6.01] [-2.56, 0.16] [-2.64, 9.74] [-2.96, 0.20] [-0.45, 9.72] [-1.82, 7.83] [-7.09, 7.60] [-2.89, 8.38] [-5.92, 4.66] [-1.54, 6.78] [2.88, 2.49] [8.54, 1.24] [1.51, 7.44] [4.94, 6.43] [6.68, 2.10] [8.61, 6.10] [2.08, 4.14] [1.10, 3.15] [1.65, 0.69] [5.44, 8.61] [3.08, 2.02]\n"
       ]
      }
     ],
     "prompt_number": 12
    },
    {
     "cell_type": "markdown",
     "metadata": {},
     "source": [
      "It is easy to filter the iteration process and apply the function only on elements inside a given polygon. Use the `set_mask()` method and pass a list of x-y coordinates. The polygon will be automatically closed."
     ]
    },
    {
     "cell_type": "code",
     "collapsed": false,
     "input": [
      "q.set_mask([(-3, -7), (-3, 7), (3, 7), (3, -7)])\n",
      "q.iterate(print_callback)"
     ],
     "language": "python",
     "metadata": {},
     "outputs": [
      {
       "output_type": "stream",
       "stream": "stdout",
       "text": [
        "[-1.68, -6.69] [-0.91, -1.92] [1.32, -2.36] [1.07, -2.52] [-2.56, 0.16] [-2.96, 0.20] [-1.54, 6.78] [2.88, 2.49] [2.08, 4.14] [1.10, 3.15] [1.65, 0.69]\n"
       ]
      }
     ],
     "prompt_number": 13
    },
    {
     "cell_type": "markdown",
     "metadata": {},
     "source": [
      "The same approach can be used to count the number of elements inside the quadtree, using a global counting variable."
     ]
    },
    {
     "cell_type": "code",
     "collapsed": false,
     "input": [
      "count = 0\n",
      "@static_elt\n",
      "def count_element(p):\n",
      "    global count\n",
      "    count += 1\n",
      "q.iterate(count_element)\n",
      "print (\"%d elements\" % count)"
     ],
     "language": "python",
     "metadata": {},
     "outputs": [
      {
       "output_type": "stream",
       "stream": "stdout",
       "text": [
        "11 elements\n"
       ]
      }
     ],
     "prompt_number": 14
    },
    {
     "cell_type": "markdown",
     "metadata": {},
     "source": [
      "As a mask is set on the quadtree, we only counted the elements inside the mask. You can use the `size()` method to count elements and ignore the mask by default. Disabling the mask with `set_mask(None)` is also a possibility."
     ]
    },
    {
     "cell_type": "code",
     "collapsed": false,
     "input": [
      "print (\"%d elements (size method)\" % q.size())\n",
      "print (\"%d elements (don't ignore the mask)\" % q.size(False))\n",
      "\n",
      "count = 0\n",
      "q.set_mask(None)\n",
      "q.iterate(count_element)\n",
      "print (\"%d elements (disable the mask)\" % count)"
     ],
     "language": "python",
     "metadata": {},
     "outputs": [
      {
       "output_type": "stream",
       "stream": "stdout",
       "text": [
        "50 elements (size method)\n",
        "11 elements (don't ignore the mask)\n",
        "50 elements (disable the mask)\n"
       ]
      }
     ],
     "prompt_number": 15
    },
    {
     "cell_type": "code",
     "collapsed": false,
     "input": [
      "%matplotlib inline\n",
      "from matplotlib import pyplot as plt\n",
      "\n",
      "@static_elt\n",
      "def plot_green(p):\n",
      "    plt.plot([p[0]], [p[1]], 'o', color='lightgrey')\n",
      "\n",
      "@static_elt\n",
      "def plot_red(p):\n",
      "    plt.plot([p[0]], [p[1]], 'ro')\n",
      "    \n",
      "fig = plt.figure()\n",
      "plt.axis([-10, 10, -10, 10])\n",
      "q.set_mask(None)\n",
      "q.iterate(plot_green)\n",
      "q.set_mask([(-3, -7), (-3, 7), (3, 7), (3, -7)])\n",
      "q.iterate(plot_red)\n"
     ],
     "language": "python",
     "metadata": {},
     "outputs": [
      {
       "metadata": {},
       "output_type": "display_data",
       "png": "[encoded data removed]",
       "text": [
        "<matplotlib.figure.Figure at 0x1106eaf10>"
       ]
      }
     ],
     "prompt_number": 16
    },
    {
     "cell_type": "heading",
     "level": 2,
     "metadata": {},
     "source": [
      "Iteration on pairs of neighbouring elements"
     ]
    },
    {
     "cell_type": "markdown",
     "metadata": {},
     "source": [
      "Iterating on pairs of neighbouring elements works in a pretty intuitive way by passing a function of two elements to `iterate_pair` method.\n",
      "\n",
      "Note that:\n",
      " - the function of two elements is **not** supposed to modify the x-y coordinates of any element;\n",
      " - the function is supposed to be symmetrical, i.e. only one of `f(p1, p2)` and `f(p2, p1)` is called."
     ]
    },
    {
     "cell_type": "code",
     "collapsed": false,
     "input": [
      "fig = plt.figure()\n",
      "plt.axis([-10, 10, -10, 10])\n",
      "\n",
      "@static_elt\n",
      "def plot_grey(p):\n",
      "    plt.plot([p[0]], [p[1]], 'o', color='lightgrey')\n",
      "\n",
      "def draw_line(p1, p2):\n",
      "    if ((p1[0] - p2[0]) ** 2 + (p1[1] - p2[1]) ** 2 < 3):\n",
      "        plt.plot([p1[0]], [p1[1]], 'o', color='red')\n",
      "        plt.plot([p2[0]], [p2[1]], 'o', color='red')\n",
      "        plt.plot([p1[0], p2[0]], [p1[1], p2[1]], 'red')\n",
      "        \n",
      "q.set_mask(None)\n",
      "q.iterate(plot_grey)\n",
      "q.iterate_pair(draw_line)\n"
     ],
     "language": "python",
     "metadata": {},
     "outputs": [
      {
       "metadata": {},
       "output_type": "display_data",
       "png": "[encoded data removed]",
       "text": [
        "<matplotlib.figure.Figure at 0x110813690>"
       ]
      }
     ],
     "prompt_number": 17
    },
    {
     "cell_type": "code",
     "collapsed": false,
     "input": [
      "# Let's move elements (violently)\n",
      "from smartquadtree import movable_elt\n",
      "\n",
      "# Try @static_elt and see how important it is to not be wrong here!\n",
      "@movable_elt\n",
      "def move(p):\n",
      "    p[0] = abs(p[0])\n",
      "    \n",
      "q.iterate(move)\n",
      "\n",
      "fig = plt.figure()\n",
      "plt.axis([-10, 10, -10, 10])\n",
      "q.iterate(plot_grey)\n",
      "q.iterate_pair(draw_line)"
     ],
     "language": "python",
     "metadata": {},
     "outputs": [
      {
       "metadata": {},
       "output_type": "display_data",
       "png": "[encoded data removed]",
       "text": [
        "<matplotlib.figure.Figure at 0x11082e790>"
       ]
      }
     ],
     "prompt_number": 18
    }
   ],
   "metadata": {}
  }
 ]
}